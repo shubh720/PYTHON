{
 "cells": [
  {
   "cell_type": "markdown",
   "metadata": {},
   "source": [
    "## NUMPY BASIS"
   ]
  },
  {
   "cell_type": "code",
   "execution_count": 1,
   "metadata": {},
   "outputs": [],
   "source": [
    "import numpy as np"
   ]
  },
  {
   "cell_type": "code",
   "execution_count": 2,
   "metadata": {},
   "outputs": [
    {
     "name": "stdout",
     "output_type": "stream",
     "text": [
      "5\n"
     ]
    }
   ],
   "source": [
    "# absolute func\n",
    "\n",
    "a = np.absolute(-5)\n",
    "print(a)"
   ]
  },
  {
   "cell_type": "code",
   "execution_count": 6,
   "metadata": {},
   "outputs": [
    {
     "name": "stdout",
     "output_type": "stream",
     "text": [
      "[1 2 3 4]\n",
      "(4,)\n"
     ]
    }
   ],
   "source": [
    "# 1D list \n",
    "\n",
    "arr1d = np.array([1,2,3,4])\n",
    "print(arr1d)\n",
    "print(np.shape(arr1d))"
   ]
  },
  {
   "cell_type": "code",
   "execution_count": 7,
   "metadata": {},
   "outputs": [
    {
     "name": "stdout",
     "output_type": "stream",
     "text": [
      "[[1 2 3 4]\n",
      " [5 6 7 8]]\n",
      "(2, 4)\n"
     ]
    }
   ],
   "source": [
    "# 2D list\n",
    "\n",
    "arr2d = np.array([[1,2,3,4],[5,6,7,8]])\n",
    "print(arr2d)\n",
    "print(np.shape(arr2d))"
   ]
  },
  {
   "cell_type": "code",
   "execution_count": 12,
   "metadata": {},
   "outputs": [
    {
     "name": "stdout",
     "output_type": "stream",
     "text": [
      "[[ 30  70]\n",
      " [ 70 174]]\n",
      "(2, 2)\n"
     ]
    }
   ],
   "source": [
    "# dot product \n",
    "\n",
    "matrix = np.dot(arr2d,arr2d.T)\n",
    "print(matrix)\n",
    "print(np.shape(matrix))"
   ]
  },
  {
   "cell_type": "code",
   "execution_count": 15,
   "metadata": {},
   "outputs": [
    {
     "name": "stdout",
     "output_type": "stream",
     "text": [
      "[34 36 34 25 38 37 35 29 18 15]\n"
     ]
    }
   ],
   "source": [
    "# random integers b/w given range\n",
    "# syntax : np.random.randint( low , high , length)  \n",
    "# low inclusive , high exclusive  [ )\n",
    "\n",
    "r_int = np.random.randint(10,40,10)\n",
    "print(r_int)"
   ]
  },
  {
   "cell_type": "code",
   "execution_count": 16,
   "metadata": {},
   "outputs": [
    {
     "name": "stdout",
     "output_type": "stream",
     "text": [
      "[[10 18 28 11 12]\n",
      " [32 35 14 38 32]\n",
      " [38 26 30 38 10]\n",
      " [31 19 39 35 36]\n",
      " [38 37 31 16 22]]\n"
     ]
    }
   ],
   "source": [
    "# also we can make 2D matrix\n",
    "\n",
    "r_int2d = np.random.randint(10,40,(5,5))\n",
    "print(r_int2d)\n"
   ]
  },
  {
   "cell_type": "code",
   "execution_count": 20,
   "metadata": {},
   "outputs": [
    {
     "name": "stdout",
     "output_type": "stream",
     "text": [
      "MAX : 39 \n",
      "MIN : 10 \n"
     ]
    }
   ],
   "source": [
    "# to print max and min values\n",
    "\n",
    "print(\"MAX : %d \"%r_int2d.max())\n",
    "print(\"MIN : %d \"%r_int2d.min())"
   ]
  },
  {
   "cell_type": "code",
   "execution_count": 25,
   "metadata": {},
   "outputs": [
    {
     "name": "stdout",
     "output_type": "stream",
     "text": [
      "3\n",
      "7\n"
     ]
    }
   ],
   "source": [
    "# min argument in list i.e.. returns index of min arg\n",
    "\n",
    "l = [1,2,3,-3,4,-1,0,8]\n",
    "print(np.argmin(l))\n",
    "print(np.argmax(l))"
   ]
  },
  {
   "cell_type": "code",
   "execution_count": 26,
   "metadata": {},
   "outputs": [
    {
     "name": "stdout",
     "output_type": "stream",
     "text": [
      "[1 2 3 5 6 7 8]\n"
     ]
    }
   ],
   "source": [
    "# to print only unique elements by np.unique(<array name>)\n",
    "\n",
    "arr = np.array([1,2,3,1,2,3,6,7,8,5,6])\n",
    "print(np.unique(arr))"
   ]
  },
  {
   "cell_type": "code",
   "execution_count": 34,
   "metadata": {},
   "outputs": [
    {
     "name": "stdout",
     "output_type": "stream",
     "text": [
      "(array([1, 2, 3, 5, 6, 7, 8]), array([2, 2, 2, 1, 2, 1, 1]))\n",
      "(array([1, 2, 3, 5, 6, 7, 8]), array([0, 1, 2, 0, 1, 2, 4, 5, 6, 3, 4]))\n"
     ]
    }
   ],
   "source": [
    "print(np.unique(arr,return_counts=True))\n",
    "\n",
    "print(np.unique(arr,return_inverse=True))"
   ]
  },
  {
   "cell_type": "code",
   "execution_count": 35,
   "metadata": {},
   "outputs": [
    {
     "name": "stdout",
     "output_type": "stream",
     "text": [
      "[[10 18 28 11 12]\n",
      " [32 35 14 38 32]\n",
      " [38 26 30 38 10]\n",
      " [31 19 39 35 36]\n",
      " [38 37 31 16 22]]\n"
     ]
    }
   ],
   "source": [
    "print(r_int2d)"
   ]
  },
  {
   "cell_type": "code",
   "execution_count": 55,
   "metadata": {},
   "outputs": [
    {
     "name": "stdout",
     "output_type": "stream",
     "text": [
      "[[26 30 38]\n",
      " [19 39 35]]\n"
     ]
    }
   ],
   "source": [
    "# slicing of an array\n",
    "\n",
    "temp = r_int2d[2:4,1:4]\n",
    "print(temp)"
   ]
  },
  {
   "cell_type": "code",
   "execution_count": 56,
   "metadata": {},
   "outputs": [
    {
     "name": "stdout",
     "output_type": "stream",
     "text": [
      "12\n"
     ]
    }
   ],
   "source": [
    "# print 0,4\n",
    "\n",
    "print(r_int2d[0][4])"
   ]
  },
  {
   "cell_type": "code",
   "execution_count": null,
   "metadata": {},
   "outputs": [],
   "source": []
  }
 ],
 "metadata": {
  "kernelspec": {
   "display_name": "Python 2",
   "language": "python",
   "name": "python2"
  },
  "language_info": {
   "codemirror_mode": {
    "name": "ipython",
    "version": 2
   },
   "file_extension": ".py",
   "mimetype": "text/x-python",
   "name": "python",
   "nbconvert_exporter": "python",
   "pygments_lexer": "ipython2",
   "version": "2.7.12"
  }
 },
 "nbformat": 4,
 "nbformat_minor": 4
}
