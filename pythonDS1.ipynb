{
 "cells": [
  {
   "cell_type": "markdown",
   "metadata": {},
   "source": [
    "## LIST"
   ]
  },
  {
   "cell_type": "markdown",
   "metadata": {},
   "source": [
    "### - List is like an array , but have hetrogeneous data "
   ]
  },
  {
   "cell_type": "code",
   "execution_count": 4,
   "metadata": {},
   "outputs": [
    {
     "name": "stdout",
     "output_type": "stream",
     "text": [
      "<type 'list'>\n",
      "[1, 2, 3, 'Hello', 'abc']\n"
     ]
    }
   ],
   "source": [
    "# list can contain hetrogeneous data type too\n",
    "l = [1,2,3,\"Hello\",\"abc\"]\n",
    "print(type(l))\n",
    "print(l)"
   ]
  },
  {
   "cell_type": "code",
   "execution_count": 5,
   "metadata": {},
   "outputs": [
    {
     "name": "stdout",
     "output_type": "stream",
     "text": [
      "[1, 2, 3, 'Hello', 'abc']\n"
     ]
    }
   ],
   "source": [
    "# we can pass as paramter to create copy\n",
    "l1 = list(l)\n",
    "print(l1)"
   ]
  },
  {
   "cell_type": "code",
   "execution_count": 6,
   "metadata": {},
   "outputs": [
    {
     "name": "stdout",
     "output_type": "stream",
     "text": [
      "[1, 2, 3.5, 'hi']\n",
      "<type 'list'>\n"
     ]
    }
   ],
   "source": [
    "# list can be passed as constructor\n",
    "l2 = list([1,2,3.5,\"hi\"])\n",
    "print(l2)\n",
    "print(type(l2))"
   ]
  },
  {
   "cell_type": "code",
   "execution_count": 7,
   "metadata": {},
   "outputs": [
    {
     "name": "stdout",
     "output_type": "stream",
     "text": [
      "[1, 2, 3.5, 'hi', 1, 2, 3, 'Hello', 'abc']\n"
     ]
    }
   ],
   "source": [
    "# we can append 2 list as\n",
    "l2 = l2 + l1\n",
    "print(l2)"
   ]
  },
  {
   "cell_type": "code",
   "execution_count": 12,
   "metadata": {},
   "outputs": [
    {
     "name": "stdout",
     "output_type": "stream",
     "text": [
      "[1, 2, 3, 'Hello', 'abc', 1, 2, 3, 'Hello', 'abc']\n"
     ]
    }
   ],
   "source": [
    "# if we want to repeat same values again in a list\n",
    "l3 = list(l1)\n",
    "l3.extend(l3)\n",
    "print(l3)\n",
    "\n",
    "# we can extend same list again by repeating past values or we can extend with another list"
   ]
  },
  {
   "cell_type": "code",
   "execution_count": 19,
   "metadata": {},
   "outputs": [
    {
     "name": "stdout",
     "output_type": "stream",
     "text": [
      "[1, 4, 9, 16, 25]\n",
      "1\n",
      "4\n",
      "9\n",
      "16\n",
      "25\n"
     ]
    }
   ],
   "source": [
    "# list of square of numbers from 1 to 5\n",
    "# make square in list itself\n",
    "lsq = [i*i for i in range(1,6)]\n",
    "print(lsq)\n",
    "\n",
    "# not in list\n",
    "lsq = [1,2,3,4,5]\n",
    "for i in lsq:\n",
    "    print(i**2)"
   ]
  },
  {
   "cell_type": "markdown",
   "metadata": {},
   "source": [
    "## Operations on List\n",
    "- insertion : append , insert\n",
    "- deletion : del , pop ,remove"
   ]
  },
  {
   "cell_type": "code",
   "execution_count": null,
   "metadata": {},
   "outputs": [],
   "source": []
  }
 ],
 "metadata": {
  "kernelspec": {
   "display_name": "Python 2",
   "language": "python",
   "name": "python2"
  },
  "language_info": {
   "codemirror_mode": {
    "name": "ipython",
    "version": 2
   },
   "file_extension": ".py",
   "mimetype": "text/x-python",
   "name": "python",
   "nbconvert_exporter": "python",
   "pygments_lexer": "ipython2",
   "version": "2.7.12"
  }
 },
 "nbformat": 4,
 "nbformat_minor": 4
}
