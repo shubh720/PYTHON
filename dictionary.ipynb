{
 "cells": [
  {
   "cell_type": "markdown",
   "metadata": {},
   "source": [
    "## DICTIONARY \n",
    "(Hashmaps in c++)"
   ]
  },
  {
   "cell_type": "code",
   "execution_count": 2,
   "metadata": {},
   "outputs": [
    {
     "name": "stdout",
     "output_type": "stream",
     "text": [
      "{'guava': 300, 'mango': 100, 'apple': 200}\n"
     ]
    }
   ],
   "source": [
    "d = {\"mango\":100 ,\"apple\":200 ,\"guava\":300}\n",
    "print(d)"
   ]
  },
  {
   "cell_type": "code",
   "execution_count": 3,
   "metadata": {},
   "outputs": [
    {
     "name": "stdout",
     "output_type": "stream",
     "text": [
      "100\n"
     ]
    }
   ],
   "source": [
    "# in c++ mymap[key] = value\n",
    "print(d[\"mango\"])"
   ]
  },
  {
   "cell_type": "code",
   "execution_count": 5,
   "metadata": {},
   "outputs": [
    {
     "name": "stdout",
     "output_type": "stream",
     "text": [
      "{'guava': 300, 'mango': 100, 'apple': 200, 'grapes': 80}\n"
     ]
    }
   ],
   "source": [
    "d[\"grapes\"] = 80\n",
    "print(d)"
   ]
  },
  {
   "cell_type": "code",
   "execution_count": 6,
   "metadata": {},
   "outputs": [
    {
     "name": "stdout",
     "output_type": "stream",
     "text": [
      "{'guava': 300, 'mango': 100, 'apple': 200, 'grapes': 80, 'pineapple': {'small': 90, 'large': 150, 'medium': 120}}\n"
     ]
    }
   ],
   "source": [
    "# we can insert dict as value\n",
    "d[\"pineapple\"] = {\"small\":90 ,\"medium\":120 ,\"large\":150}\n",
    "print(d)"
   ]
  },
  {
   "cell_type": "code",
   "execution_count": 7,
   "metadata": {},
   "outputs": [
    {
     "name": "stdout",
     "output_type": "stream",
     "text": [
      "{'small': 90, 'large': 150, 'medium': 120}\n"
     ]
    }
   ],
   "source": [
    "print(d[\"pineapple\"])"
   ]
  },
  {
   "cell_type": "code",
   "execution_count": 8,
   "metadata": {},
   "outputs": [
    {
     "name": "stdout",
     "output_type": "stream",
     "text": [
      "120\n"
     ]
    }
   ],
   "source": [
    "print(d[\"pineapple\"][\"medium\"])"
   ]
  },
  {
   "cell_type": "code",
   "execution_count": 9,
   "metadata": {},
   "outputs": [
    {
     "name": "stdout",
     "output_type": "stream",
     "text": [
      "{'small': 90, 'large': 150, 'medium': 120}\n"
     ]
    }
   ],
   "source": [
    "print(d[\"pineapple\"])"
   ]
  },
  {
   "cell_type": "markdown",
   "metadata": {},
   "source": [
    "#### we have (key, value) pairs in dict. key should be unique but value can be anything ie., value can have key,value as a pair"
   ]
  },
  {
   "cell_type": "code",
   "execution_count": 11,
   "metadata": {},
   "outputs": [
    {
     "name": "stdout",
     "output_type": "stream",
     "text": [
      "['guava', 'mango', 'apple', 'grapes', 'pineapple']\n"
     ]
    }
   ],
   "source": [
    "# we can print all keys\n",
    "print(d.keys())"
   ]
  },
  {
   "cell_type": "code",
   "execution_count": 13,
   "metadata": {},
   "outputs": [
    {
     "name": "stdout",
     "output_type": "stream",
     "text": [
      "[300, 100, 200, 80, {'small': 90, 'large': 150, 'medium': 120}]\n"
     ]
    }
   ],
   "source": [
    "# we can print values\n",
    "print(d.values())"
   ]
  },
  {
   "cell_type": "markdown",
   "metadata": {},
   "source": [
    "### Operators and Functions"
   ]
  },
  {
   "cell_type": "code",
   "execution_count": 15,
   "metadata": {},
   "outputs": [
    {
     "name": "stdout",
     "output_type": "stream",
     "text": [
      "100\n"
     ]
    }
   ],
   "source": [
    "# get() function : gives value corresponding to the given key\n",
    "\n",
    "print(d.get(\"mango\"))"
   ]
  },
  {
   "cell_type": "code",
   "execution_count": 17,
   "metadata": {},
   "outputs": [
    {
     "name": "stdout",
     "output_type": "stream",
     "text": [
      "None\n"
     ]
    }
   ],
   "source": [
    "print(d.get(\"mangoes\"))  \n",
    "\n",
    "# NONE means not present "
   ]
  },
  {
   "cell_type": "code",
   "execution_count": 18,
   "metadata": {},
   "outputs": [
    {
     "name": "stdout",
     "output_type": "stream",
     "text": [
      "[('guava', 300), ('mango', 100), ('apple', 200), ('grapes', 80), ('pineapple', {'small': 90, 'large': 150, 'medium': 120})]\n"
     ]
    }
   ],
   "source": [
    "# items() function : returns list of tuples that means key,value both\n",
    "\n",
    "print(d.items())"
   ]
  },
  {
   "cell_type": "code",
   "execution_count": 19,
   "metadata": {},
   "outputs": [
    {
     "name": "stdout",
     "output_type": "stream",
     "text": [
      "['guava', 'mango', 'apple', 'grapes', 'pineapple']\n"
     ]
    }
   ],
   "source": [
    "# keys() function : return list of keys present in dictionary\n",
    "\n",
    "print(d.keys())"
   ]
  },
  {
   "cell_type": "code",
   "execution_count": 20,
   "metadata": {},
   "outputs": [
    {
     "name": "stdout",
     "output_type": "stream",
     "text": [
      "[300, 100, 200, 80, {'small': 90, 'large': 150, 'medium': 120}]\n"
     ]
    }
   ],
   "source": [
    "# values() function : return list of values present in dictionary\n",
    "\n",
    "print(d.values())"
   ]
  },
  {
   "cell_type": "code",
   "execution_count": 24,
   "metadata": {},
   "outputs": [
    {
     "name": "stdout",
     "output_type": "stream",
     "text": [
      "{'kiwi': 250, 'strawberry': 50, 'mango': 100, 'apple': 200, 'grapes': 80, 'pineapple': {'small': 90, 'large': 150, 'medium': 120}, 'guava': 300}\n"
     ]
    }
   ],
   "source": [
    "# update() function : updates where reqd.\n",
    "\n",
    "d2 = {\"kiwi\":250}\n",
    "d.update(d2)\n",
    "\n",
    "d.update({\"strawberry\":50})\n",
    "print(d)"
   ]
  },
  {
   "cell_type": "code",
   "execution_count": 25,
   "metadata": {},
   "outputs": [
    {
     "name": "stdout",
     "output_type": "stream",
     "text": [
      "{'kiwi': 250, 'strawberry': 50, 'mango': 100, 'apple': 200, 'grapes': 80, 'guava': 300}\n"
     ]
    }
   ],
   "source": [
    "# del to delete complete key ,value pairs\n",
    "\n",
    "del d[\"pineapple\"]\n",
    "print(d)"
   ]
  },
  {
   "cell_type": "code",
   "execution_count": 27,
   "metadata": {},
   "outputs": [
    {
     "name": "stdout",
     "output_type": "stream",
     "text": [
      "6\n"
     ]
    }
   ],
   "source": [
    "# len() function : to return length of dict\n",
    "\n",
    "print(len(d))"
   ]
  },
  {
   "cell_type": "code",
   "execution_count": 29,
   "metadata": {},
   "outputs": [
    {
     "name": "stdout",
     "output_type": "stream",
     "text": [
      "0\n"
     ]
    }
   ],
   "source": [
    "# clear() : to clear dict\n",
    "d.clear()\n",
    "\n",
    "print(len(d))"
   ]
  },
  {
   "cell_type": "code",
   "execution_count": 31,
   "metadata": {},
   "outputs": [
    {
     "name": "stdout",
     "output_type": "stream",
     "text": [
      "[('cricket', 11), ('football', 8), ('badminton', 2)]\n"
     ]
    }
   ],
   "source": [
    "# to convert LIST to DICTIONARY\n",
    "\n",
    "l1 = [\"cricket\",\"football\",\"badminton\"]\n",
    "l2 = [11,8,2]\n",
    "\n",
    "# zip generally used to convert into dict\n",
    "final = zip(l1,l2)\n",
    "print(final)"
   ]
  },
  {
   "cell_type": "code",
   "execution_count": 40,
   "metadata": {},
   "outputs": [
    {
     "name": "stdout",
     "output_type": "stream",
     "text": [
      "('cricket', 100)\n",
      "('badminton', 200)\n",
      "('hockey', 400)\n",
      "('football', 300)\n"
     ]
    }
   ],
   "source": [
    "# iteration\n",
    "d = {\"cricket\":100, \"badminton\":200 ,\"football\":300 ,\"hockey\":400}\n",
    "\n",
    "# in c++ , auto it = mymap\n",
    "# mymap used to have keys\n",
    "# d[keys] will have value in return\n",
    "for k in d:\n",
    "    print(k,d[k])"
   ]
  },
  {
   "cell_type": "code",
   "execution_count": null,
   "metadata": {},
   "outputs": [],
   "source": []
  }
 ],
 "metadata": {
  "kernelspec": {
   "display_name": "Python 2",
   "language": "python",
   "name": "python2"
  },
  "language_info": {
   "codemirror_mode": {
    "name": "ipython",
    "version": 2
   },
   "file_extension": ".py",
   "mimetype": "text/x-python",
   "name": "python",
   "nbconvert_exporter": "python",
   "pygments_lexer": "ipython2",
   "version": "2.7.12"
  }
 },
 "nbformat": 4,
 "nbformat_minor": 4
}
