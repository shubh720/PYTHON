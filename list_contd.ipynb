{
 "cells": [
  {
   "cell_type": "markdown",
   "metadata": {},
   "source": [
    "## More functions on List"
   ]
  },
  {
   "cell_type": "code",
   "execution_count": 5,
   "metadata": {},
   "outputs": [
    {
     "name": "stdout",
     "output_type": "stream",
     "text": [
      "[12, 54, 1, 36, 20]\n",
      "54\n",
      "1\n"
     ]
    }
   ],
   "source": [
    "l = list([12,54,1,36,20])\n",
    "print(l)\n",
    "\n",
    "# print max value present in list\n",
    "print(max(l))\n",
    "\n",
    "# print min value present in list\n",
    "print(min(l))"
   ]
  },
  {
   "cell_type": "code",
   "execution_count": 20,
   "metadata": {},
   "outputs": [
    {
     "name": "stdout",
     "output_type": "stream",
     "text": [
      "3\n"
     ]
    }
   ],
   "source": [
    "# index find\n",
    "l = [2,3,5,20,45]\n",
    "print(l.index(20))"
   ]
  },
  {
   "cell_type": "markdown",
   "metadata": {},
   "source": [
    "### SORTING & SEARCHING\n",
    "- sort\n",
    "- sorted"
   ]
  },
  {
   "cell_type": "code",
   "execution_count": 10,
   "metadata": {},
   "outputs": [
    {
     "name": "stdout",
     "output_type": "stream",
     "text": [
      "[1, 12, 20, 36, 54]\n",
      "[12, 54, 1, 36, 20]\n",
      "[1, 12, 20, 36, 54]\n"
     ]
    }
   ],
   "source": [
    "print(sorted(l))\n",
    "print(l)\n",
    "\n",
    "# there is some difference \n",
    "# sorted(l) will only print copy of sorted l not original so\n",
    "l = sorted(l)\n",
    "print(l)"
   ]
  },
  {
   "cell_type": "code",
   "execution_count": 16,
   "metadata": {},
   "outputs": [
    {
     "name": "stdout",
     "output_type": "stream",
     "text": [
      "[6, 5, 4, 3, 2, 1]\n",
      "[1, 2, 3, 4, 5, 6]\n"
     ]
    }
   ],
   "source": [
    "# we can even perform decr or incr sorting\n",
    "l = [6,1,4,5,3,2]\n",
    "l.sort(reverse=True)\n",
    "print(l)\n",
    "\n",
    "l.sort(reverse=False)\n",
    "print(l)"
   ]
  },
  {
   "cell_type": "code",
   "execution_count": 28,
   "metadata": {},
   "outputs": [
    {
     "name": "stdout",
     "output_type": "stream",
     "text": [
      "[1, 3, 5, 6, 7, 8, 9]\n"
     ]
    }
   ],
   "source": [
    "array = [5,6,7,3,8,1,9]\n",
    "array.sort()\n",
    "print(array)"
   ]
  },
  {
   "cell_type": "code",
   "execution_count": null,
   "metadata": {},
   "outputs": [],
   "source": []
  }
 ],
 "metadata": {
  "kernelspec": {
   "display_name": "Python 2",
   "language": "python",
   "name": "python2"
  },
  "language_info": {
   "codemirror_mode": {
    "name": "ipython",
    "version": 2
   },
   "file_extension": ".py",
   "mimetype": "text/x-python",
   "name": "python",
   "nbconvert_exporter": "python",
   "pygments_lexer": "ipython2",
   "version": "2.7.12"
  }
 },
 "nbformat": 4,
 "nbformat_minor": 4
}
