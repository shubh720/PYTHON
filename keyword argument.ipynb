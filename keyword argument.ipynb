{
 "cells": [
  {
   "cell_type": "code",
   "execution_count": 3,
   "metadata": {},
   "outputs": [
    {
     "name": "stdout",
     "output_type": "stream",
     "text": [
      "my score in python is 10 \n",
      "my score in java is 100 \n"
     ]
    }
   ],
   "source": [
    "def myFunc(score,lang):\n",
    "    print(\"my score in %s is %d \"%(lang,score))\n",
    "\n",
    "# either pass correct parameters (acc to datatype)\n",
    "myFunc(100,\"python\")\n",
    "# or if you have no idea about the parameters declared parameters as shown below  \n",
    "myFunc(lang= \"java\",score = 10)"
   ]
  },
  {
   "cell_type": "markdown",
   "metadata": {},
   "source": [
    "## strings and builtin methods"
   ]
  },
  {
   "cell_type": "code",
   "execution_count": 4,
   "metadata": {},
   "outputs": [
    {
     "name": "stdout",
     "output_type": "stream",
     "text": [
      "shubh kumar\n"
     ]
    }
   ],
   "source": [
    "a = \"shubh kumar\"\n",
    "print(a)"
   ]
  },
  {
   "cell_type": "code",
   "execution_count": 8,
   "metadata": {},
   "outputs": [
    {
     "name": "stdout",
     "output_type": "stream",
     "text": [
      "u\n"
     ]
    }
   ],
   "source": [
    "# if we want to print char at index 2\n",
    "print(a[2])"
   ]
  },
  {
   "cell_type": "code",
   "execution_count": 9,
   "metadata": {},
   "outputs": [
    {
     "name": "stdout",
     "output_type": "stream",
     "text": [
      "a\n"
     ]
    }
   ],
   "source": [
    "# we can even print in reverse order using - ve along with index from last\n",
    "# starts with -1 not 0 from last\n",
    "print(a[-2]) \n"
   ]
  },
  {
   "cell_type": "code",
   "execution_count": 10,
   "metadata": {},
   "outputs": [
    {
     "name": "stdout",
     "output_type": "stream",
     "text": [
      "11\n"
     ]
    }
   ],
   "source": [
    "# to find length of string a \n",
    "print(len(a))"
   ]
  },
  {
   "cell_type": "code",
   "execution_count": 11,
   "metadata": {},
   "outputs": [
    {
     "ename": "TypeError",
     "evalue": "'str' object does not support item assignment",
     "output_type": "error",
     "traceback": [
      "\u001b[0;31m---------------------------------------------------------------------------\u001b[0m",
      "\u001b[0;31mTypeError\u001b[0m                                 Traceback (most recent call last)",
      "\u001b[0;32m<ipython-input-11-a0ac7f113042>\u001b[0m in \u001b[0;36m<module>\u001b[0;34m()\u001b[0m\n\u001b[1;32m      1\u001b[0m \u001b[0;31m# strings are not mutuable ie.. you cannot update a particular char\u001b[0m\u001b[0;34m\u001b[0m\u001b[0;34m\u001b[0m\u001b[0m\n\u001b[0;32m----> 2\u001b[0;31m \u001b[0ma\u001b[0m\u001b[0;34m[\u001b[0m\u001b[0;36m3\u001b[0m\u001b[0;34m]\u001b[0m \u001b[0;34m=\u001b[0m \u001b[0;34m'a'\u001b[0m\u001b[0;34m\u001b[0m\u001b[0m\n\u001b[0m\u001b[1;32m      3\u001b[0m \u001b[0;32mprint\u001b[0m\u001b[0;34m(\u001b[0m\u001b[0ma\u001b[0m\u001b[0;34m)\u001b[0m\u001b[0;34m\u001b[0m\u001b[0m\n",
      "\u001b[0;31mTypeError\u001b[0m: 'str' object does not support item assignment"
     ]
    }
   ],
   "source": [
    "# strings are not mutuable ie.. you cannot update a particular char\n",
    "a[3] = 'a'\n",
    "print(a)"
   ]
  },
  {
   "cell_type": "code",
   "execution_count": 13,
   "metadata": {},
   "outputs": [
    {
     "name": "stdout",
     "output_type": "stream",
     "text": [
      "shuah kumar\n"
     ]
    }
   ],
   "source": [
    "# the only way is by writing update string as\n",
    "a = \"shuah kumar\"\n",
    "print(a)\n",
    "# if to update given string ,change the string"
   ]
  },
  {
   "cell_type": "markdown",
   "metadata": {},
   "source": [
    "## more on strings inbuilt"
   ]
  },
  {
   "cell_type": "code",
   "execution_count": 14,
   "metadata": {},
   "outputs": [
    {
     "data": {
      "text/plain": [
       "'u'"
      ]
     },
     "execution_count": 14,
     "metadata": {},
     "output_type": "execute_result"
    }
   ],
   "source": [
    "# Slicing in Python is a feature that enables accessing parts of sequences like strings, tuples, and lists.\n",
    "a[2]"
   ]
  },
  {
   "cell_type": "code",
   "execution_count": 15,
   "metadata": {},
   "outputs": [
    {
     "data": {
      "text/plain": [
       "'shuah kumar'"
      ]
     },
     "execution_count": 15,
     "metadata": {},
     "output_type": "execute_result"
    }
   ],
   "source": [
    "# let's output range of subsq from array a\n",
    "print(a[ : ])"
   ]
  },
  {
   "cell_type": "code",
   "execution_count": 16,
   "metadata": {},
   "outputs": [
    {
     "name": "stdout",
     "output_type": "stream",
     "text": [
      "hu\n"
     ]
    }
   ],
   "source": [
    "print(a[1:3])  \n",
    "# it's like [ ) ending is not included "
   ]
  },
  {
   "cell_type": "code",
   "execution_count": 19,
   "metadata": {},
   "outputs": [
    {
     "name": "stdout",
     "output_type": "stream",
     "text": [
      "machinelearning\n"
     ]
    }
   ],
   "source": [
    "# append 2 strings\n",
    "str1 = \"machine\"\n",
    "str2 = \"learning\"\n",
    "print(str1 + str2)"
   ]
  },
  {
   "cell_type": "code",
   "execution_count": 20,
   "metadata": {},
   "outputs": [
    {
     "name": "stdout",
     "output_type": "stream",
     "text": [
      "machinemachinemachinemachinemachine\n"
     ]
    }
   ],
   "source": [
    "# print str1 , 5 times either call print(str1) 5 times or\n",
    "print(str1*5)\n"
   ]
  },
  {
   "cell_type": "code",
   "execution_count": 24,
   "metadata": {},
   "outputs": [
    {
     "name": "stdout",
     "output_type": "stream",
     "text": [
      "Not Present!\n"
     ]
    }
   ],
   "source": [
    "# membership : tells whether substring is present in given string\n",
    "main_string = \"machine learning engg\"\n",
    "subsq = \"mach\"\n",
    "subsq = \"hey\"\n",
    "\n",
    "if subsq in main_string:\n",
    "    print(\"Present!\")\n",
    "else:\n",
    "    print(\"Not Present!\")\n",
    "    \n",
    "# case sensitive? yes     "
   ]
  },
  {
   "cell_type": "code",
   "execution_count": 25,
   "metadata": {},
   "outputs": [
    {
     "name": "stdout",
     "output_type": "stream",
     "text": [
      "['i', 'love', 'to', 'eat', 'pizza', 'along', 'with', 'some', 'coke.']\n"
     ]
    }
   ],
   "source": [
    "# split function in strings\n",
    "# split as soon as we encounter a space\n",
    "food = \"\"\"i love to\n",
    "eat pizza along\n",
    "with some coke. \"\"\"\n",
    "\n",
    "f = food.split()\n",
    "print(f)"
   ]
  },
  {
   "cell_type": "code",
   "execution_count": 31,
   "metadata": {},
   "outputs": [
    {
     "data": {
      "text/plain": [
       "['banana apple', 'mango grapes kiwi']"
      ]
     },
     "execution_count": 31,
     "metadata": {},
     "output_type": "execute_result"
    }
   ],
   "source": [
    "# split line wise \n",
    "fruits = \"\"\"banana apple\n",
    "mango grapes kiwi\"\"\"\n",
    "\n",
    "fruits.splitlines()"
   ]
  },
  {
   "cell_type": "code",
   "execution_count": 33,
   "metadata": {},
   "outputs": [
    {
     "name": "stdout",
     "output_type": "stream",
     "text": [
      "CodIng Code\n"
     ]
    }
   ],
   "source": [
    "## convert upper to lower case or vice versa\n",
    "string = \"CodIng Code\"\n",
    "print(string)"
   ]
  },
  {
   "cell_type": "code",
   "execution_count": 34,
   "metadata": {},
   "outputs": [
    {
     "name": "stdout",
     "output_type": "stream",
     "text": [
      "CODING CODE\n"
     ]
    }
   ],
   "source": [
    "string = string.upper()\n",
    "print(string)"
   ]
  },
  {
   "cell_type": "code",
   "execution_count": 35,
   "metadata": {},
   "outputs": [
    {
     "name": "stdout",
     "output_type": "stream",
     "text": [
      "coding code\n"
     ]
    }
   ],
   "source": [
    "string = string.lower()\n",
    "print(string)"
   ]
  },
  {
   "cell_type": "code",
   "execution_count": 47,
   "metadata": {},
   "outputs": [
    {
     "name": "stdout",
     "output_type": "stream",
     "text": [
      "17\n"
     ]
    }
   ],
   "source": [
    "juice = \"   Apple juice   \"\n",
    "print(len(juice))"
   ]
  },
  {
   "cell_type": "code",
   "execution_count": 49,
   "metadata": {},
   "outputs": [
    {
     "name": "stdout",
     "output_type": "stream",
     "text": [
      "14\n"
     ]
    }
   ],
   "source": [
    "# .lstrip to remove left spaces or starting spaces\n",
    "\n",
    "juice = juice.lstrip()\n",
    "print(len(juice))"
   ]
  },
  {
   "cell_type": "code",
   "execution_count": 50,
   "metadata": {},
   "outputs": [
    {
     "name": "stdout",
     "output_type": "stream",
     "text": [
      "11\n"
     ]
    }
   ],
   "source": [
    "# .rstrip to remove right spaces or ending spaces\n",
    "\n",
    "juice = juice.rstrip()\n",
    "print(len(juice))"
   ]
  },
  {
   "cell_type": "code",
   "execution_count": 51,
   "metadata": {},
   "outputs": [
    {
     "name": "stdout",
     "output_type": "stream",
     "text": [
      "11\n"
     ]
    }
   ],
   "source": [
    "# calculate w/o spaces\n",
    "\n",
    "print(len(\"apple juice\"))"
   ]
  },
  {
   "cell_type": "code",
   "execution_count": 55,
   "metadata": {},
   "outputs": [
    {
     "name": "stdout",
     "output_type": "stream",
     "text": [
      "23\n"
     ]
    }
   ],
   "source": [
    "# hence verified above ans is correct after removing left & right spaces\n",
    "\n",
    "# to remove both spaces at one go\n",
    "juice = \"    mix fruit juice    \"\n",
    "print(len(juice))"
   ]
  },
  {
   "cell_type": "code",
   "execution_count": 56,
   "metadata": {},
   "outputs": [
    {
     "name": "stdout",
     "output_type": "stream",
     "text": [
      "15\n"
     ]
    }
   ],
   "source": [
    "juice = juice.strip()\n",
    "print(len(juice))"
   ]
  },
  {
   "cell_type": "markdown",
   "metadata": {},
   "source": [
    "### some new functions"
   ]
  },
  {
   "cell_type": "code",
   "execution_count": 63,
   "metadata": {},
   "outputs": [
    {
     "name": "stdout",
     "output_type": "stream",
     "text": [
      "True\n",
      "False\n"
     ]
    }
   ],
   "source": [
    "# isalpha()  : returns boolean value if contains only alphabets then true else false\n",
    "value = \"pythonpython\"\n",
    "print(value.isalpha())\n",
    "\n",
    "value = \"python123\"\n",
    "print(value.isalpha())\n",
    "# spaces, special symbols these are generally characters so false o/p if included"
   ]
  },
  {
   "cell_type": "code",
   "execution_count": 64,
   "metadata": {},
   "outputs": [
    {
     "name": "stdout",
     "output_type": "stream",
     "text": [
      "False\n",
      "True\n"
     ]
    }
   ],
   "source": [
    "# isdigit()  : based complete on numeric/numbers\n",
    "num = \"1234abc\"\n",
    "print(num.isdigit())\n",
    "\n",
    "num = \"1234\"\n",
    "print(num.isdigit())"
   ]
  },
  {
   "cell_type": "code",
   "execution_count": 66,
   "metadata": {},
   "outputs": [
    {
     "name": "stdout",
     "output_type": "stream",
     "text": [
      "True\n",
      "True\n",
      "False\n"
     ]
    }
   ],
   "source": [
    "# is alnum()  : for both alpha and number\n",
    "both = \"123xyz\"\n",
    "print(both.isalnum())\n",
    "\n",
    "both = \"1234\"\n",
    "print(both.isalnum())\n",
    "\n",
    "both = \"1234avf$\"\n",
    "print(both.isalnum())"
   ]
  },
  {
   "cell_type": "code",
   "execution_count": 70,
   "metadata": {},
   "outputs": [
    {
     "name": "stdout",
     "output_type": "stream",
     "text": [
      "False\n",
      "True\n"
     ]
    }
   ],
   "source": [
    "# isspace()  : white spaces only (completely)\n",
    "name = \"kumar shubh\"\n",
    "print(name.isspace())\n",
    "\n",
    "name = \"  \"\n",
    "print(name.isspace())"
   ]
  },
  {
   "cell_type": "code",
   "execution_count": 74,
   "metadata": {},
   "outputs": [
    {
     "data": {
      "text/plain": [
       "26"
      ]
     },
     "execution_count": 74,
     "metadata": {},
     "output_type": "execute_result"
    }
   ],
   "source": [
    "# find function\n",
    "\n",
    "string = \"i love apple ,also i love apple juice\"\n",
    "\n",
    "# if more than one any word is present it will return an index value of firstly found word\n",
    "string.find(\"apple\")\n",
    "\n",
    "# can also be written as shown if to find from right \n",
    "string.rfind(\"apple\") "
   ]
  },
  {
   "cell_type": "code",
   "execution_count": 75,
   "metadata": {},
   "outputs": [
    {
     "data": {
      "text/plain": [
       "-1"
      ]
     },
     "execution_count": 75,
     "metadata": {},
     "output_type": "execute_result"
    }
   ],
   "source": [
    "# also we can give interval\n",
    "string.find(\"apple\",10,20)"
   ]
  },
  {
   "cell_type": "code",
   "execution_count": 86,
   "metadata": {},
   "outputs": [
    {
     "name": "stdout",
     "output_type": "stream",
     "text": [
      "2\n"
     ]
    }
   ],
   "source": [
    "# replace function : to replace a word\n",
    "string = string.replace(\"apple\",\"mango\")\n",
    "print(string)"
   ]
  },
  {
   "cell_type": "code",
   "execution_count": 80,
   "metadata": {},
   "outputs": [
    {
     "name": "stdout",
     "output_type": "stream",
     "text": [
      "3\n",
      "2\n",
      "0\n"
     ]
    }
   ],
   "source": [
    "# count function : to keep count on frequency of occurences \n",
    "print(string.count(\"i\"))\n",
    "print(string.count(\"mango\"))\n",
    "print(string.count(\"apple\"))"
   ]
  },
  {
   "cell_type": "code",
   "execution_count": 88,
   "metadata": {},
   "outputs": [
    {
     "name": "stdout",
     "output_type": "stream",
     "text": [
      "['i', 'love', 'apple', ',also', 'i', 'love', 'apple', 'juice']\n"
     ]
    }
   ],
   "source": [
    "# join function\n",
    "# first split then join using _ , - , + anything\n",
    "string = \"i love apple ,also i love apple juice\"\n",
    "l = string.split()\n",
    "print(l)"
   ]
  },
  {
   "cell_type": "code",
   "execution_count": 90,
   "metadata": {},
   "outputs": [
    {
     "name": "stdout",
     "output_type": "stream",
     "text": [
      "i-love-apple-,also-i-love-apple-juice\n"
     ]
    }
   ],
   "source": [
    "b = '-'\n",
    "b = b.join(l)\n",
    "print(b)"
   ]
  },
  {
   "cell_type": "code",
   "execution_count": 91,
   "metadata": {},
   "outputs": [
    {
     "name": "stdout",
     "output_type": "stream",
     "text": [
      "Coding baba\n"
     ]
    }
   ],
   "source": [
    "# capitalize() function\n",
    "\n",
    "name = \"coding baba\"\n",
    "name = name.capitalize()\n",
    "print(name)\n",
    "\n",
    "# in this case only first char is capitalized"
   ]
  },
  {
   "cell_type": "code",
   "execution_count": 92,
   "metadata": {},
   "outputs": [
    {
     "name": "stdout",
     "output_type": "stream",
     "text": [
      "Coding Baba\n"
     ]
    }
   ],
   "source": [
    "# to change into upper case initial char as soon as we get a new word\n",
    "\n",
    "name = name.title()\n",
    "print(name)"
   ]
  },
  {
   "cell_type": "code",
   "execution_count": null,
   "metadata": {},
   "outputs": [],
   "source": []
  }
 ],
 "metadata": {
  "kernelspec": {
   "display_name": "Python 2",
   "language": "python",
   "name": "python2"
  },
  "language_info": {
   "codemirror_mode": {
    "name": "ipython",
    "version": 2
   },
   "file_extension": ".py",
   "mimetype": "text/x-python",
   "name": "python",
   "nbconvert_exporter": "python",
   "pygments_lexer": "ipython2",
   "version": "2.7.12"
  }
 },
 "nbformat": 4,
 "nbformat_minor": 4
}
